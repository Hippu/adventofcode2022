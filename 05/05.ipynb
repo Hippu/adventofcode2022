{
 "cells": [
  {
   "cell_type": "markdown",
   "metadata": {},
   "source": [
    "```\n",
    "--- Day 5: Supply Stacks ---\n",
    "The expedition can depart as soon as the final supplies have been unloaded from the ships. Supplies are stored in stacks of marked crates, but because the needed supplies are buried under many other crates, the crates need to be rearranged.\n",
    "\n",
    "The ship has a giant cargo crane capable of moving crates between stacks. To ensure none of the crates get crushed or fall over, the crane operator will rearrange them in a series of carefully-planned steps. After the crates are rearranged, the desired crates will be at the top of each stack.\n",
    "\n",
    "The Elves don't want to interrupt the crane operator during this delicate procedure, but they forgot to ask her which crate will end up where, and they want to be ready to unload them as soon as possible so they can embark.\n",
    "\n",
    "They do, however, have a drawing of the starting stacks of crates and the rearrangement procedure (your puzzle input). For example:\n",
    "\n",
    "    [D]    \n",
    "[N] [C]    \n",
    "[Z] [M] [P]\n",
    " 1   2   3 \n",
    "\n",
    "move 1 from 2 to 1\n",
    "move 3 from 1 to 3\n",
    "move 2 from 2 to 1\n",
    "move 1 from 1 to 2\n",
    "In this example, there are three stacks of crates. Stack 1 contains two crates: crate Z is on the bottom, and crate N is on top. Stack 2 contains three crates; from bottom to top, they are crates M, C, and D. Finally, stack 3 contains a single crate, P.\n",
    "\n",
    "Then, the rearrangement procedure is given. In each step of the procedure, a quantity of crates is moved from one stack to a different stack. In the first step of the above rearrangement procedure, one crate is moved from stack 2 to stack 1, resulting in this configuration:\n",
    "\n",
    "[D]        \n",
    "[N] [C]    \n",
    "[Z] [M] [P]\n",
    " 1   2   3 \n",
    "In the second step, three crates are moved from stack 1 to stack 3. Crates are moved one at a time, so the first crate to be moved (D) ends up below the second and third crates:\n",
    "\n",
    "        [Z]\n",
    "        [N]\n",
    "    [C] [D]\n",
    "    [M] [P]\n",
    " 1   2   3\n",
    "Then, both crates are moved from stack 2 to stack 1. Again, because crates are moved one at a time, crate C ends up below crate M:\n",
    "\n",
    "        [Z]\n",
    "        [N]\n",
    "[M]     [D]\n",
    "[C]     [P]\n",
    " 1   2   3\n",
    "Finally, one crate is moved from stack 1 to stack 2:\n",
    "\n",
    "        [Z]\n",
    "        [N]\n",
    "        [D]\n",
    "[C] [M] [P]\n",
    " 1   2   3\n",
    "The Elves just need to know which crate will end up on top of each stack; in this example, the top crates are C in stack 1, M in stack 2, and Z in stack 3, so you should combine these together and give the Elves the message CMZ.\n",
    "\n",
    "After the rearrangement procedure completes, what crate ends up on top of each stack?\n",
    "```"
   ]
  },
  {
   "cell_type": "code",
   "execution_count": 13,
   "metadata": {
    "dotnet_interactive": {
     "language": "fsharp"
    },
    "polyglot_notebook": {
     "language": "fsharp"
    },
    "vscode": {
     "languageId": "dotnet-interactive.fsharp"
    }
   },
   "outputs": [
    {
     "data": {
      "text/html": [
       "<div><div></div><div></div><div><strong>Installed Packages</strong><ul><li><span>FParsec, 1.1.1</span></li></ul></div></div>"
      ]
     },
     "metadata": {},
     "output_type": "display_data"
    },
    {
     "data": {
      "text/plain": [
       "SPFMVDTZT"
      ]
     },
     "metadata": {},
     "output_type": "display_data"
    }
   ],
   "source": [
    "#r \"nuget: FParsec\"\n",
    "open FParsec\n",
    "\n",
    "let input = System.IO.File.ReadAllLines \"./input.txt\"\n",
    "\n",
    "let (initialStateInput, instructionsInput) = \n",
    "    input |> Array.splitAt (Array.findIndex (fun line -> line = \"\") input)\n",
    "\n",
    "type State = Map<int, char array>\n",
    "type Instruction =\n",
    "    {\n",
    "        Amount: int;\n",
    "        From: int;\n",
    "        To: int;\n",
    "    }\n",
    "\n",
    "let initialState = \n",
    "    initialStateInput\n",
    "        |> Array.map (Seq.map (fun c -> if List.contains c ['[';']'] then ' ' else c) >> Array.ofSeq)\n",
    "        |> Array.transpose\n",
    "        |> Array.map (Array.filter ((=) ' ' >> not))\n",
    "        |> Array.filter (Array.isEmpty >> not)\n",
    "        |> Array.map (fun arr -> Array.splitAt (Array.length arr - 1) arr)\n",
    "        |> Array.fold (fun state (value, key) -> Map.add (Array.head key |> Char.ToString |> Int32.Parse ) value state) Map.empty\n",
    "\n",
    "let instructionParser: Parser<Instruction, unit> =\n",
    "    pipe3 \n",
    "        (pstring \"move \" >>. pint32) \n",
    "        (pstring \" from \" >>. pint32) \n",
    "        (pstring \" to \" >>. pint32) \n",
    "        (fun amount from target -> {Amount = amount; From = from; To = target})\n",
    "\n",
    "let instructions =\n",
    "    instructionsInput\n",
    "        |> Array.filter (String.IsNullOrEmpty >> not)\n",
    "        |> Array.map (run instructionParser >> function | Success (a, _, _ ) -> a | Failure _ -> failwith \"Parsing error\")\n",
    "\n",
    "let runInstruction (state: State) (instruction: Instruction) : State =\n",
    "    let stack = Array.take instruction.Amount state.[instruction.From]\n",
    "    state\n",
    "        |> Map.change instruction.From (Option.map (Array.skip instruction.Amount))\n",
    "        |> Map.change instruction.To (Option.map (fun a -> Array.concat [(Array.rev stack); a]))\n",
    "\n",
    "let finalState = Array.fold (runInstruction) initialState instructions \n",
    "\n",
    "let getResult (state: State) : string  =\n",
    "    Map.values state\n",
    "    |> Seq.map (Seq.head)\n",
    "    |> Array.ofSeq\n",
    "    |> System.String\n",
    "\n",
    "getResult finalState"
   ]
  },
  {
   "cell_type": "code",
   "execution_count": 14,
   "metadata": {
    "dotnet_interactive": {
     "language": "fsharp"
    },
    "vscode": {
     "languageId": "dotnet-interactive.fsharp"
    }
   },
   "outputs": [
    {
     "data": {
      "text/plain": [
       "ZFSJBPRFP"
      ]
     },
     "metadata": {},
     "output_type": "display_data"
    }
   ],
   "source": [
    "let runInstruction2 (state: State) (instruction: Instruction) : State =\n",
    "    let stack = Array.take instruction.Amount state.[instruction.From]\n",
    "    state\n",
    "        |> Map.change instruction.From (Option.map (Array.skip instruction.Amount))\n",
    "        |> Map.change instruction.To (Option.map (fun a -> Array.concat [ stack; a]))\n",
    "\n",
    "getResult (Array.fold runInstruction2 initialState instructions)"
   ]
  }
 ],
 "metadata": {
  "kernelspec": {
   "display_name": ".NET (F#)",
   "language": "F#",
   "name": ".net-fsharp"
  },
  "language_info": {
   "name": "F#"
  }
 },
 "nbformat": 4,
 "nbformat_minor": 2
}
